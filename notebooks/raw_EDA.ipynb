{
 "cells": [
  {
   "attachments": {},
   "cell_type": "markdown",
   "metadata": {},
   "source": [
    "# Introduction\n",
    "\n",
    "This notebook is taking a look at the raw data we have scraped so we can figure out what transformation and cleaning up we will need to do. In this notebook we won't go into too much detail on distributions and analytics but rather focus on making sure our data is usable."
   ]
  },
  {
   "cell_type": "code",
   "execution_count": 34,
   "metadata": {},
   "outputs": [],
   "source": [
    "import pandas as pd \n",
    "import matplotlib.pyplot as plt\n",
    "import numpy as np"
   ]
  },
  {
   "cell_type": "code",
   "execution_count": 2,
   "metadata": {},
   "outputs": [],
   "source": [
    "RAW_DATA_PATH = \"../data/raw/openpowerlifting.csv\""
   ]
  },
  {
   "cell_type": "code",
   "execution_count": 23,
   "metadata": {},
   "outputs": [],
   "source": [
    "df = pd.read_csv(RAW_DATA_PATH)"
   ]
  },
  {
   "cell_type": "code",
   "execution_count": 24,
   "metadata": {},
   "outputs": [
    {
     "name": "stdout",
     "output_type": "stream",
     "text": [
      "Index(['Number', 'Name', 'Instagram Handle', 'Origin', 'Federation',\n",
      "       'Competition Date', 'Competition Country', 'Competition City', 'Gender',\n",
      "       'Equipment', 'Age', 'Weight', 'Class', 'Squat', 'Bench', 'Deadlift',\n",
      "       'Total', 'Dots'],\n",
      "      dtype='object')\n"
     ]
    }
   ],
   "source": [
    "print(df.columns)"
   ]
  },
  {
   "cell_type": "code",
   "execution_count": 25,
   "metadata": {},
   "outputs": [
    {
     "name": "stdout",
     "output_type": "stream",
     "text": [
      "   Number               Name Instagram Handle  Origin Federation  \\\n",
      "0   28301      Brandon Homer              NaN     USA       USPA   \n",
      "1   28302        Brian Knust              NaN     USA       USPA   \n",
      "2   28303    Alina Sarycheva              NaN  Russia        FPR   \n",
      "3   28304  Nancy Honeysuckle              NaN     USA       USPA   \n",
      "4   28305      Hector Medina              NaN     USA       USPA   \n",
      "\n",
      "  Competition Date Competition Country Competition City Gender Equipment  Age  \\\n",
      "0       2023-01-28                 USA               TX      M       Raw   45   \n",
      "1       2015-08-22                 USA               TX      M     Wraps   31   \n",
      "2       2017-02-08              Russia              NIZ      F       Raw  17~   \n",
      "3       2021-07-31                 USA               TX      F       Raw   32   \n",
      "4       2022-03-19                 USA               CA      M       Raw   22   \n",
      "\n",
      "   Weight Class  Squat  Bench  Deadlift   Total    Dots  \n",
      "0   215.4   220  556.6  396.8     575.4  1528.9  431.26  \n",
      "1   268.9   275  573.2  440.9     650.3  1664.5  431.25  \n",
      "2   119.9   125  264.5  237.0     303.1   804.7  431.25  \n",
      "3   180.5   181  385.8  209.4     425.5  1020.7  431.25  \n",
      "4   163.8   165  429.9  303.1     584.2  1317.2  431.25  \n"
     ]
    }
   ],
   "source": [
    "print(df.head())"
   ]
  },
  {
   "cell_type": "code",
   "execution_count": 26,
   "metadata": {},
   "outputs": [
    {
     "name": "stdout",
     "output_type": "stream",
     "text": [
      "there are 451800 records\n"
     ]
    }
   ],
   "source": [
    "print(f'there are {len(df)} records')"
   ]
  },
  {
   "cell_type": "code",
   "execution_count": 27,
   "metadata": {},
   "outputs": [
    {
     "data": {
      "text/html": [
       "<div>\n",
       "<style scoped>\n",
       "    .dataframe tbody tr th:only-of-type {\n",
       "        vertical-align: middle;\n",
       "    }\n",
       "\n",
       "    .dataframe tbody tr th {\n",
       "        vertical-align: top;\n",
       "    }\n",
       "\n",
       "    .dataframe thead th {\n",
       "        text-align: right;\n",
       "    }\n",
       "</style>\n",
       "<table border=\"1\" class=\"dataframe\">\n",
       "  <thead>\n",
       "    <tr style=\"text-align: right;\">\n",
       "      <th></th>\n",
       "      <th>Number</th>\n",
       "      <th>Weight</th>\n",
       "      <th>Squat</th>\n",
       "      <th>Bench</th>\n",
       "      <th>Deadlift</th>\n",
       "      <th>Total</th>\n",
       "      <th>Dots</th>\n",
       "    </tr>\n",
       "  </thead>\n",
       "  <tbody>\n",
       "    <tr>\n",
       "      <th>count</th>\n",
       "      <td>451800.000000</td>\n",
       "      <td>451800.000000</td>\n",
       "      <td>326940.000000</td>\n",
       "      <td>423897.000000</td>\n",
       "      <td>364841.000000</td>\n",
       "      <td>451800.00000</td>\n",
       "      <td>451800.000000</td>\n",
       "    </tr>\n",
       "    <tr>\n",
       "      <th>mean</th>\n",
       "      <td>225968.716025</td>\n",
       "      <td>184.053829</td>\n",
       "      <td>362.027168</td>\n",
       "      <td>243.775077</td>\n",
       "      <td>417.623612</td>\n",
       "      <td>828.80701</td>\n",
       "      <td>273.977700</td>\n",
       "    </tr>\n",
       "    <tr>\n",
       "      <th>std</th>\n",
       "      <td>130530.930731</td>\n",
       "      <td>47.130080</td>\n",
       "      <td>132.892094</td>\n",
       "      <td>99.467008</td>\n",
       "      <td>132.305954</td>\n",
       "      <td>433.83273</td>\n",
       "      <td>120.755537</td>\n",
       "    </tr>\n",
       "    <tr>\n",
       "      <th>min</th>\n",
       "      <td>1.000000</td>\n",
       "      <td>35.000000</td>\n",
       "      <td>2.200000</td>\n",
       "      <td>10.300000</td>\n",
       "      <td>2.200000</td>\n",
       "      <td>52.50000</td>\n",
       "      <td>33.690000</td>\n",
       "    </tr>\n",
       "    <tr>\n",
       "      <th>25%</th>\n",
       "      <td>112950.750000</td>\n",
       "      <td>148.800000</td>\n",
       "      <td>253.500000</td>\n",
       "      <td>154.300000</td>\n",
       "      <td>308.600000</td>\n",
       "      <td>450.00000</td>\n",
       "      <td>158.220000</td>\n",
       "    </tr>\n",
       "    <tr>\n",
       "      <th>50%</th>\n",
       "      <td>225900.500000</td>\n",
       "      <td>179.600000</td>\n",
       "      <td>358.200000</td>\n",
       "      <td>248.000000</td>\n",
       "      <td>424.400000</td>\n",
       "      <td>804.70000</td>\n",
       "      <td>303.350000</td>\n",
       "    </tr>\n",
       "    <tr>\n",
       "      <th>75%</th>\n",
       "      <td>338850.250000</td>\n",
       "      <td>213.400000</td>\n",
       "      <td>451.900000</td>\n",
       "      <td>314.100000</td>\n",
       "      <td>513.600000</td>\n",
       "      <td>1179.40000</td>\n",
       "      <td>365.630000</td>\n",
       "    </tr>\n",
       "    <tr>\n",
       "      <th>max</th>\n",
       "      <td>452800.000000</td>\n",
       "      <td>573.200000</td>\n",
       "      <td>1102.300000</td>\n",
       "      <td>782.600000</td>\n",
       "      <td>1030.600000</td>\n",
       "      <td>2606.90000</td>\n",
       "      <td>709.960000</td>\n",
       "    </tr>\n",
       "  </tbody>\n",
       "</table>\n",
       "</div>"
      ],
      "text/plain": [
       "              Number         Weight          Squat          Bench  \\\n",
       "count  451800.000000  451800.000000  326940.000000  423897.000000   \n",
       "mean   225968.716025     184.053829     362.027168     243.775077   \n",
       "std    130530.930731      47.130080     132.892094      99.467008   \n",
       "min         1.000000      35.000000       2.200000      10.300000   \n",
       "25%    112950.750000     148.800000     253.500000     154.300000   \n",
       "50%    225900.500000     179.600000     358.200000     248.000000   \n",
       "75%    338850.250000     213.400000     451.900000     314.100000   \n",
       "max    452800.000000     573.200000    1102.300000     782.600000   \n",
       "\n",
       "            Deadlift         Total           Dots  \n",
       "count  364841.000000  451800.00000  451800.000000  \n",
       "mean      417.623612     828.80701     273.977700  \n",
       "std       132.305954     433.83273     120.755537  \n",
       "min         2.200000      52.50000      33.690000  \n",
       "25%       308.600000     450.00000     158.220000  \n",
       "50%       424.400000     804.70000     303.350000  \n",
       "75%       513.600000    1179.40000     365.630000  \n",
       "max      1030.600000    2606.90000     709.960000  "
      ]
     },
     "execution_count": 27,
     "metadata": {},
     "output_type": "execute_result"
    }
   ],
   "source": [
    "df.describe()"
   ]
  },
  {
   "cell_type": "code",
   "execution_count": 28,
   "metadata": {},
   "outputs": [
    {
     "name": "stdout",
     "output_type": "stream",
     "text": [
      "<class 'pandas.core.frame.DataFrame'>\n",
      "RangeIndex: 451800 entries, 0 to 451799\n",
      "Data columns (total 18 columns):\n",
      " #   Column               Non-Null Count   Dtype  \n",
      "---  ------               --------------   -----  \n",
      " 0   Number               451800 non-null  int64  \n",
      " 1   Name                 451800 non-null  object \n",
      " 2   Instagram Handle     9183 non-null    object \n",
      " 3   Origin               265552 non-null  object \n",
      " 4   Federation           451800 non-null  object \n",
      " 5   Competition Date     451800 non-null  object \n",
      " 6   Competition Country  451800 non-null  object \n",
      " 7   Competition City     307999 non-null  object \n",
      " 8   Gender               451800 non-null  object \n",
      " 9   Equipment            451800 non-null  object \n",
      " 10  Age                  350687 non-null  object \n",
      " 11  Weight               451800 non-null  float64\n",
      " 12  Class                447815 non-null  object \n",
      " 13  Squat                326940 non-null  float64\n",
      " 14  Bench                423897 non-null  float64\n",
      " 15  Deadlift             364841 non-null  float64\n",
      " 16  Total                451800 non-null  float64\n",
      " 17  Dots                 451800 non-null  float64\n",
      "dtypes: float64(6), int64(1), object(11)\n",
      "memory usage: 62.0+ MB\n"
     ]
    }
   ],
   "source": [
    "df.info()"
   ]
  },
  {
   "attachments": {},
   "cell_type": "markdown",
   "metadata": {},
   "source": [
    "After looking at the info above, the age column should be a float64 but it is not let us see why this is and turn it into a float"
   ]
  },
  {
   "cell_type": "code",
   "execution_count": 29,
   "metadata": {},
   "outputs": [
    {
     "data": {
      "text/plain": [
       "array(['45', '31', '17~', '32', '22', '43', '27', '30~', '28', '33', '18',\n",
       "       '27~', '21', '32~', '20', '41', '29', '38~', '24', '39', '26~',\n",
       "       '31~', '44~', '19', '25~', '26', '22~', nan, '40', '50~', '23',\n",
       "       '23~', '18~', '20~', '34', '30', '36', '25', '28~', '29~', '34~',\n",
       "       '44', '37', '42', '24~', '48', '39~', '35', '21~', '17', '19~',\n",
       "       '38', '47', '54', '16~', '51~', '47~', '15~', '41~', '46', '40~',\n",
       "       '60~', '35~', '45~', '55', '43~', '16', '37~', '59', '62', '52~',\n",
       "       '56~', '14~', '49~', '60', '51', '48~', '36~', '15', '59~', '64',\n",
       "       '79', '7', '53', '12', '10', '49', '14', '58', '9', '33~', '13',\n",
       "       '56', '50', '11', '42~', '58~', '52', '57', '46~', '67', '13~',\n",
       "       '61', '61~', '72', '54~', '63~', '57~', '73', '53~', '69~', '73~',\n",
       "       '71', '81', '76', '66', '10~', '9~', '67~', '68~', '62~', '75',\n",
       "       '11~', '12~', '63', '65~', '70', '65', '70~', '66~', '8', '68',\n",
       "       '77', '75~', '74', '72~', '80', '64~', '7~', '69', '77~', '55~',\n",
       "       '71~', '78~', '84', '78', '4~', '76~', '8~', '74~', '82', '80~',\n",
       "       '82~', '88', '79~', '83~', '6~', '5', '92~', '85', '0~', '88~',\n",
       "       '89', '6', '96', '86~', '87', '83', '81~', '86', '85~', '5~',\n",
       "       '93~', '2~', '90', '84~', '87~', '90~', '89~', '91~', '91', '1~',\n",
       "       '92'], dtype=object)"
      ]
     },
     "execution_count": 29,
     "metadata": {},
     "output_type": "execute_result"
    }
   ],
   "source": [
    "df[\"Age\"].unique()"
   ]
  },
  {
   "attachments": {},
   "cell_type": "markdown",
   "metadata": {},
   "source": [
    "We can see that the data has some ~ lines indicating an approximation but we can remove that in order to convert the age column to floats "
   ]
  },
  {
   "cell_type": "code",
   "execution_count": 35,
   "metadata": {},
   "outputs": [],
   "source": [
    "df[\"Age\"] = df['Age'].str.replace('~', '').astype(np.float64)"
   ]
  },
  {
   "cell_type": "code",
   "execution_count": 36,
   "metadata": {},
   "outputs": [
    {
     "data": {
      "text/plain": [
       "array([45., 31., 17., 32., 22., 43., 27., 30., 28., 33., 18., 21., 20.,\n",
       "       41., 29., 38., 24., 39., 26., 44., 19., 25., nan, 40., 50., 23.,\n",
       "       34., 36., 37., 42., 48., 35., 47., 54., 16., 51., 15., 46., 60.,\n",
       "       55., 59., 62., 52., 56., 14., 49., 64., 79.,  7., 53., 12., 10.,\n",
       "       58.,  9., 13., 11., 57., 67., 61., 72., 63., 73., 69., 71., 81.,\n",
       "       76., 66., 68., 75., 65., 70.,  8., 77., 74., 80., 78., 84.,  4.,\n",
       "       82., 88., 83.,  6.,  5., 92., 85.,  0., 89., 96., 86., 87., 93.,\n",
       "        2., 90., 91.,  1.])"
      ]
     },
     "execution_count": 36,
     "metadata": {},
     "output_type": "execute_result"
    }
   ],
   "source": [
    "df[\"Age\"].unique()"
   ]
  },
  {
   "cell_type": "code",
   "execution_count": 38,
   "metadata": {},
   "outputs": [
    {
     "data": {
      "text/html": [
       "<div>\n",
       "<style scoped>\n",
       "    .dataframe tbody tr th:only-of-type {\n",
       "        vertical-align: middle;\n",
       "    }\n",
       "\n",
       "    .dataframe tbody tr th {\n",
       "        vertical-align: top;\n",
       "    }\n",
       "\n",
       "    .dataframe thead th {\n",
       "        text-align: right;\n",
       "    }\n",
       "</style>\n",
       "<table border=\"1\" class=\"dataframe\">\n",
       "  <thead>\n",
       "    <tr style=\"text-align: right;\">\n",
       "      <th></th>\n",
       "      <th>Number</th>\n",
       "      <th>Name</th>\n",
       "      <th>Instagram Handle</th>\n",
       "      <th>Origin</th>\n",
       "      <th>Federation</th>\n",
       "      <th>Competition Date</th>\n",
       "      <th>Competition Country</th>\n",
       "      <th>Competition City</th>\n",
       "      <th>Gender</th>\n",
       "      <th>Equipment</th>\n",
       "      <th>Age</th>\n",
       "      <th>Weight</th>\n",
       "      <th>Class</th>\n",
       "      <th>Squat</th>\n",
       "      <th>Bench</th>\n",
       "      <th>Deadlift</th>\n",
       "      <th>Total</th>\n",
       "      <th>Dots</th>\n",
       "    </tr>\n",
       "  </thead>\n",
       "  <tbody>\n",
       "    <tr>\n",
       "      <th>0</th>\n",
       "      <td>28301</td>\n",
       "      <td>Brandon Homer</td>\n",
       "      <td>NaN</td>\n",
       "      <td>USA</td>\n",
       "      <td>USPA</td>\n",
       "      <td>2023-01-28</td>\n",
       "      <td>USA</td>\n",
       "      <td>TX</td>\n",
       "      <td>M</td>\n",
       "      <td>Raw</td>\n",
       "      <td>45.0</td>\n",
       "      <td>215.4</td>\n",
       "      <td>220</td>\n",
       "      <td>556.6</td>\n",
       "      <td>396.8</td>\n",
       "      <td>575.4</td>\n",
       "      <td>1528.9</td>\n",
       "      <td>431.26</td>\n",
       "    </tr>\n",
       "    <tr>\n",
       "      <th>1</th>\n",
       "      <td>28302</td>\n",
       "      <td>Brian Knust</td>\n",
       "      <td>NaN</td>\n",
       "      <td>USA</td>\n",
       "      <td>USPA</td>\n",
       "      <td>2015-08-22</td>\n",
       "      <td>USA</td>\n",
       "      <td>TX</td>\n",
       "      <td>M</td>\n",
       "      <td>Wraps</td>\n",
       "      <td>31.0</td>\n",
       "      <td>268.9</td>\n",
       "      <td>275</td>\n",
       "      <td>573.2</td>\n",
       "      <td>440.9</td>\n",
       "      <td>650.3</td>\n",
       "      <td>1664.5</td>\n",
       "      <td>431.25</td>\n",
       "    </tr>\n",
       "    <tr>\n",
       "      <th>2</th>\n",
       "      <td>28303</td>\n",
       "      <td>Alina Sarycheva</td>\n",
       "      <td>NaN</td>\n",
       "      <td>Russia</td>\n",
       "      <td>FPR</td>\n",
       "      <td>2017-02-08</td>\n",
       "      <td>Russia</td>\n",
       "      <td>NIZ</td>\n",
       "      <td>F</td>\n",
       "      <td>Raw</td>\n",
       "      <td>17.0</td>\n",
       "      <td>119.9</td>\n",
       "      <td>125</td>\n",
       "      <td>264.5</td>\n",
       "      <td>237.0</td>\n",
       "      <td>303.1</td>\n",
       "      <td>804.7</td>\n",
       "      <td>431.25</td>\n",
       "    </tr>\n",
       "    <tr>\n",
       "      <th>3</th>\n",
       "      <td>28304</td>\n",
       "      <td>Nancy Honeysuckle</td>\n",
       "      <td>NaN</td>\n",
       "      <td>USA</td>\n",
       "      <td>USPA</td>\n",
       "      <td>2021-07-31</td>\n",
       "      <td>USA</td>\n",
       "      <td>TX</td>\n",
       "      <td>F</td>\n",
       "      <td>Raw</td>\n",
       "      <td>32.0</td>\n",
       "      <td>180.5</td>\n",
       "      <td>181</td>\n",
       "      <td>385.8</td>\n",
       "      <td>209.4</td>\n",
       "      <td>425.5</td>\n",
       "      <td>1020.7</td>\n",
       "      <td>431.25</td>\n",
       "    </tr>\n",
       "    <tr>\n",
       "      <th>4</th>\n",
       "      <td>28305</td>\n",
       "      <td>Hector Medina</td>\n",
       "      <td>NaN</td>\n",
       "      <td>USA</td>\n",
       "      <td>USPA</td>\n",
       "      <td>2022-03-19</td>\n",
       "      <td>USA</td>\n",
       "      <td>CA</td>\n",
       "      <td>M</td>\n",
       "      <td>Raw</td>\n",
       "      <td>22.0</td>\n",
       "      <td>163.8</td>\n",
       "      <td>165</td>\n",
       "      <td>429.9</td>\n",
       "      <td>303.1</td>\n",
       "      <td>584.2</td>\n",
       "      <td>1317.2</td>\n",
       "      <td>431.25</td>\n",
       "    </tr>\n",
       "  </tbody>\n",
       "</table>\n",
       "</div>"
      ],
      "text/plain": [
       "   Number               Name Instagram Handle  Origin Federation  \\\n",
       "0   28301      Brandon Homer              NaN     USA       USPA   \n",
       "1   28302        Brian Knust              NaN     USA       USPA   \n",
       "2   28303    Alina Sarycheva              NaN  Russia        FPR   \n",
       "3   28304  Nancy Honeysuckle              NaN     USA       USPA   \n",
       "4   28305      Hector Medina              NaN     USA       USPA   \n",
       "\n",
       "  Competition Date Competition Country Competition City Gender Equipment  \\\n",
       "0       2023-01-28                 USA               TX      M       Raw   \n",
       "1       2015-08-22                 USA               TX      M     Wraps   \n",
       "2       2017-02-08              Russia              NIZ      F       Raw   \n",
       "3       2021-07-31                 USA               TX      F       Raw   \n",
       "4       2022-03-19                 USA               CA      M       Raw   \n",
       "\n",
       "    Age  Weight Class  Squat  Bench  Deadlift   Total    Dots  \n",
       "0  45.0   215.4   220  556.6  396.8     575.4  1528.9  431.26  \n",
       "1  31.0   268.9   275  573.2  440.9     650.3  1664.5  431.25  \n",
       "2  17.0   119.9   125  264.5  237.0     303.1   804.7  431.25  \n",
       "3  32.0   180.5   181  385.8  209.4     425.5  1020.7  431.25  \n",
       "4  22.0   163.8   165  429.9  303.1     584.2  1317.2  431.25  "
      ]
     },
     "execution_count": 38,
     "metadata": {},
     "output_type": "execute_result"
    }
   ],
   "source": [
    "df.head()"
   ]
  },
  {
   "cell_type": "code",
   "execution_count": 39,
   "metadata": {},
   "outputs": [],
   "source": [
    "df_sorted = df.sort_values(by='Number')"
   ]
  },
  {
   "cell_type": "code",
   "execution_count": 40,
   "metadata": {},
   "outputs": [
    {
     "data": {
      "text/html": [
       "<div>\n",
       "<style scoped>\n",
       "    .dataframe tbody tr th:only-of-type {\n",
       "        vertical-align: middle;\n",
       "    }\n",
       "\n",
       "    .dataframe tbody tr th {\n",
       "        vertical-align: top;\n",
       "    }\n",
       "\n",
       "    .dataframe thead th {\n",
       "        text-align: right;\n",
       "    }\n",
       "</style>\n",
       "<table border=\"1\" class=\"dataframe\">\n",
       "  <thead>\n",
       "    <tr style=\"text-align: right;\">\n",
       "      <th></th>\n",
       "      <th>Number</th>\n",
       "      <th>Name</th>\n",
       "      <th>Instagram Handle</th>\n",
       "      <th>Origin</th>\n",
       "      <th>Federation</th>\n",
       "      <th>Competition Date</th>\n",
       "      <th>Competition Country</th>\n",
       "      <th>Competition City</th>\n",
       "      <th>Gender</th>\n",
       "      <th>Equipment</th>\n",
       "      <th>Age</th>\n",
       "      <th>Weight</th>\n",
       "      <th>Class</th>\n",
       "      <th>Squat</th>\n",
       "      <th>Bench</th>\n",
       "      <th>Deadlift</th>\n",
       "      <th>Total</th>\n",
       "      <th>Dots</th>\n",
       "    </tr>\n",
       "  </thead>\n",
       "  <tbody>\n",
       "    <tr>\n",
       "      <th>100</th>\n",
       "      <td>1</td>\n",
       "      <td>Marianna Gasparyan</td>\n",
       "      <td>power_mayan</td>\n",
       "      <td>USA</td>\n",
       "      <td>WRPF</td>\n",
       "      <td>2019-04-27</td>\n",
       "      <td>USA</td>\n",
       "      <td>CA</td>\n",
       "      <td>F</td>\n",
       "      <td>Wraps</td>\n",
       "      <td>30.0</td>\n",
       "      <td>123.4</td>\n",
       "      <td>123</td>\n",
       "      <td>573.2</td>\n",
       "      <td>292.1</td>\n",
       "      <td>485.0</td>\n",
       "      <td>1350.3</td>\n",
       "      <td>709.96</td>\n",
       "    </tr>\n",
       "    <tr>\n",
       "      <th>101</th>\n",
       "      <td>2</td>\n",
       "      <td>Kristy Hawkins</td>\n",
       "      <td>kristy_hawkins</td>\n",
       "      <td>USA</td>\n",
       "      <td>WRPF</td>\n",
       "      <td>2022-07-29</td>\n",
       "      <td>USA</td>\n",
       "      <td>VA</td>\n",
       "      <td>F</td>\n",
       "      <td>Wraps</td>\n",
       "      <td>41.0</td>\n",
       "      <td>163.8</td>\n",
       "      <td>165</td>\n",
       "      <td>639.3</td>\n",
       "      <td>336.2</td>\n",
       "      <td>611.7</td>\n",
       "      <td>1587.3</td>\n",
       "      <td>704.76</td>\n",
       "    </tr>\n",
       "    <tr>\n",
       "      <th>102</th>\n",
       "      <td>3</td>\n",
       "      <td>Hunter Henderson #1</td>\n",
       "      <td>huntermhenderson</td>\n",
       "      <td>USA</td>\n",
       "      <td>WRPF</td>\n",
       "      <td>2021-04-24</td>\n",
       "      <td>USA</td>\n",
       "      <td>CA</td>\n",
       "      <td>F</td>\n",
       "      <td>Wraps</td>\n",
       "      <td>26.0</td>\n",
       "      <td>163.8</td>\n",
       "      <td>165</td>\n",
       "      <td>650.3</td>\n",
       "      <td>325.1</td>\n",
       "      <td>573.2</td>\n",
       "      <td>1548.7</td>\n",
       "      <td>687.63</td>\n",
       "    </tr>\n",
       "    <tr>\n",
       "      <th>103</th>\n",
       "      <td>4</td>\n",
       "      <td>Chakera Ingram</td>\n",
       "      <td>c.c_ingram</td>\n",
       "      <td>USA</td>\n",
       "      <td>USPA</td>\n",
       "      <td>2019-08-03</td>\n",
       "      <td>USA</td>\n",
       "      <td>TX</td>\n",
       "      <td>F</td>\n",
       "      <td>Wraps</td>\n",
       "      <td>24.0</td>\n",
       "      <td>177.2</td>\n",
       "      <td>181</td>\n",
       "      <td>639.3</td>\n",
       "      <td>374.8</td>\n",
       "      <td>595.2</td>\n",
       "      <td>1609.3</td>\n",
       "      <td>686.14</td>\n",
       "    </tr>\n",
       "    <tr>\n",
       "      <th>104</th>\n",
       "      <td>5</td>\n",
       "      <td>Stefanie Cohen</td>\n",
       "      <td>steficohen</td>\n",
       "      <td>USA</td>\n",
       "      <td>WRPF</td>\n",
       "      <td>2019-04-27</td>\n",
       "      <td>USA</td>\n",
       "      <td>CA</td>\n",
       "      <td>F</td>\n",
       "      <td>Wraps</td>\n",
       "      <td>27.0</td>\n",
       "      <td>119.9</td>\n",
       "      <td>123</td>\n",
       "      <td>507.0</td>\n",
       "      <td>242.5</td>\n",
       "      <td>529.1</td>\n",
       "      <td>1278.6</td>\n",
       "      <td>685.45</td>\n",
       "    </tr>\n",
       "  </tbody>\n",
       "</table>\n",
       "</div>"
      ],
      "text/plain": [
       "     Number                 Name  Instagram Handle Origin Federation  \\\n",
       "100       1   Marianna Gasparyan       power_mayan    USA       WRPF   \n",
       "101       2       Kristy Hawkins    kristy_hawkins    USA       WRPF   \n",
       "102       3  Hunter Henderson #1  huntermhenderson    USA       WRPF   \n",
       "103       4       Chakera Ingram        c.c_ingram    USA       USPA   \n",
       "104       5       Stefanie Cohen        steficohen    USA       WRPF   \n",
       "\n",
       "    Competition Date Competition Country Competition City Gender Equipment  \\\n",
       "100       2019-04-27                 USA               CA      F     Wraps   \n",
       "101       2022-07-29                 USA               VA      F     Wraps   \n",
       "102       2021-04-24                 USA               CA      F     Wraps   \n",
       "103       2019-08-03                 USA               TX      F     Wraps   \n",
       "104       2019-04-27                 USA               CA      F     Wraps   \n",
       "\n",
       "      Age  Weight Class  Squat  Bench  Deadlift   Total    Dots  \n",
       "100  30.0   123.4   123  573.2  292.1     485.0  1350.3  709.96  \n",
       "101  41.0   163.8   165  639.3  336.2     611.7  1587.3  704.76  \n",
       "102  26.0   163.8   165  650.3  325.1     573.2  1548.7  687.63  \n",
       "103  24.0   177.2   181  639.3  374.8     595.2  1609.3  686.14  \n",
       "104  27.0   119.9   123  507.0  242.5     529.1  1278.6  685.45  "
      ]
     },
     "execution_count": 40,
     "metadata": {},
     "output_type": "execute_result"
    }
   ],
   "source": [
    "df_sorted.head()"
   ]
  },
  {
   "attachments": {},
   "cell_type": "markdown",
   "metadata": {},
   "source": [
    "Because the Number column isnt exactly in order we can remove it, and reset the index so the data is cleaner"
   ]
  },
  {
   "cell_type": "code",
   "execution_count": 41,
   "metadata": {},
   "outputs": [],
   "source": [
    "df = df_sorted.drop(\"Number\", axis=1).reset_index(drop=True)"
   ]
  },
  {
   "cell_type": "code",
   "execution_count": 42,
   "metadata": {},
   "outputs": [
    {
     "data": {
      "text/html": [
       "<div>\n",
       "<style scoped>\n",
       "    .dataframe tbody tr th:only-of-type {\n",
       "        vertical-align: middle;\n",
       "    }\n",
       "\n",
       "    .dataframe tbody tr th {\n",
       "        vertical-align: top;\n",
       "    }\n",
       "\n",
       "    .dataframe thead th {\n",
       "        text-align: right;\n",
       "    }\n",
       "</style>\n",
       "<table border=\"1\" class=\"dataframe\">\n",
       "  <thead>\n",
       "    <tr style=\"text-align: right;\">\n",
       "      <th></th>\n",
       "      <th>Name</th>\n",
       "      <th>Instagram Handle</th>\n",
       "      <th>Origin</th>\n",
       "      <th>Federation</th>\n",
       "      <th>Competition Date</th>\n",
       "      <th>Competition Country</th>\n",
       "      <th>Competition City</th>\n",
       "      <th>Gender</th>\n",
       "      <th>Equipment</th>\n",
       "      <th>Age</th>\n",
       "      <th>Weight</th>\n",
       "      <th>Class</th>\n",
       "      <th>Squat</th>\n",
       "      <th>Bench</th>\n",
       "      <th>Deadlift</th>\n",
       "      <th>Total</th>\n",
       "      <th>Dots</th>\n",
       "    </tr>\n",
       "  </thead>\n",
       "  <tbody>\n",
       "    <tr>\n",
       "      <th>0</th>\n",
       "      <td>Marianna Gasparyan</td>\n",
       "      <td>power_mayan</td>\n",
       "      <td>USA</td>\n",
       "      <td>WRPF</td>\n",
       "      <td>2019-04-27</td>\n",
       "      <td>USA</td>\n",
       "      <td>CA</td>\n",
       "      <td>F</td>\n",
       "      <td>Wraps</td>\n",
       "      <td>30.0</td>\n",
       "      <td>123.4</td>\n",
       "      <td>123</td>\n",
       "      <td>573.2</td>\n",
       "      <td>292.1</td>\n",
       "      <td>485.0</td>\n",
       "      <td>1350.3</td>\n",
       "      <td>709.96</td>\n",
       "    </tr>\n",
       "    <tr>\n",
       "      <th>1</th>\n",
       "      <td>Kristy Hawkins</td>\n",
       "      <td>kristy_hawkins</td>\n",
       "      <td>USA</td>\n",
       "      <td>WRPF</td>\n",
       "      <td>2022-07-29</td>\n",
       "      <td>USA</td>\n",
       "      <td>VA</td>\n",
       "      <td>F</td>\n",
       "      <td>Wraps</td>\n",
       "      <td>41.0</td>\n",
       "      <td>163.8</td>\n",
       "      <td>165</td>\n",
       "      <td>639.3</td>\n",
       "      <td>336.2</td>\n",
       "      <td>611.7</td>\n",
       "      <td>1587.3</td>\n",
       "      <td>704.76</td>\n",
       "    </tr>\n",
       "    <tr>\n",
       "      <th>2</th>\n",
       "      <td>Hunter Henderson #1</td>\n",
       "      <td>huntermhenderson</td>\n",
       "      <td>USA</td>\n",
       "      <td>WRPF</td>\n",
       "      <td>2021-04-24</td>\n",
       "      <td>USA</td>\n",
       "      <td>CA</td>\n",
       "      <td>F</td>\n",
       "      <td>Wraps</td>\n",
       "      <td>26.0</td>\n",
       "      <td>163.8</td>\n",
       "      <td>165</td>\n",
       "      <td>650.3</td>\n",
       "      <td>325.1</td>\n",
       "      <td>573.2</td>\n",
       "      <td>1548.7</td>\n",
       "      <td>687.63</td>\n",
       "    </tr>\n",
       "    <tr>\n",
       "      <th>3</th>\n",
       "      <td>Chakera Ingram</td>\n",
       "      <td>c.c_ingram</td>\n",
       "      <td>USA</td>\n",
       "      <td>USPA</td>\n",
       "      <td>2019-08-03</td>\n",
       "      <td>USA</td>\n",
       "      <td>TX</td>\n",
       "      <td>F</td>\n",
       "      <td>Wraps</td>\n",
       "      <td>24.0</td>\n",
       "      <td>177.2</td>\n",
       "      <td>181</td>\n",
       "      <td>639.3</td>\n",
       "      <td>374.8</td>\n",
       "      <td>595.2</td>\n",
       "      <td>1609.3</td>\n",
       "      <td>686.14</td>\n",
       "    </tr>\n",
       "    <tr>\n",
       "      <th>4</th>\n",
       "      <td>Stefanie Cohen</td>\n",
       "      <td>steficohen</td>\n",
       "      <td>USA</td>\n",
       "      <td>WRPF</td>\n",
       "      <td>2019-04-27</td>\n",
       "      <td>USA</td>\n",
       "      <td>CA</td>\n",
       "      <td>F</td>\n",
       "      <td>Wraps</td>\n",
       "      <td>27.0</td>\n",
       "      <td>119.9</td>\n",
       "      <td>123</td>\n",
       "      <td>507.0</td>\n",
       "      <td>242.5</td>\n",
       "      <td>529.1</td>\n",
       "      <td>1278.6</td>\n",
       "      <td>685.45</td>\n",
       "    </tr>\n",
       "  </tbody>\n",
       "</table>\n",
       "</div>"
      ],
      "text/plain": [
       "                  Name  Instagram Handle Origin Federation Competition Date  \\\n",
       "0   Marianna Gasparyan       power_mayan    USA       WRPF       2019-04-27   \n",
       "1       Kristy Hawkins    kristy_hawkins    USA       WRPF       2022-07-29   \n",
       "2  Hunter Henderson #1  huntermhenderson    USA       WRPF       2021-04-24   \n",
       "3       Chakera Ingram        c.c_ingram    USA       USPA       2019-08-03   \n",
       "4       Stefanie Cohen        steficohen    USA       WRPF       2019-04-27   \n",
       "\n",
       "  Competition Country Competition City Gender Equipment   Age  Weight Class  \\\n",
       "0                 USA               CA      F     Wraps  30.0   123.4   123   \n",
       "1                 USA               VA      F     Wraps  41.0   163.8   165   \n",
       "2                 USA               CA      F     Wraps  26.0   163.8   165   \n",
       "3                 USA               TX      F     Wraps  24.0   177.2   181   \n",
       "4                 USA               CA      F     Wraps  27.0   119.9   123   \n",
       "\n",
       "   Squat  Bench  Deadlift   Total    Dots  \n",
       "0  573.2  292.1     485.0  1350.3  709.96  \n",
       "1  639.3  336.2     611.7  1587.3  704.76  \n",
       "2  650.3  325.1     573.2  1548.7  687.63  \n",
       "3  639.3  374.8     595.2  1609.3  686.14  \n",
       "4  507.0  242.5     529.1  1278.6  685.45  "
      ]
     },
     "execution_count": 42,
     "metadata": {},
     "output_type": "execute_result"
    }
   ],
   "source": [
    "df.head()"
   ]
  },
  {
   "attachments": {},
   "cell_type": "markdown",
   "metadata": {},
   "source": [
    "Now we will go through all of the columns to make sure that the Data looks okay"
   ]
  },
  {
   "cell_type": "code",
   "execution_count": 43,
   "metadata": {},
   "outputs": [
    {
     "data": {
      "text/plain": [
       "array(['USA', 'Australia', 'Russia', 'Canada', 'Germany', nan,\n",
       "       'South Africa', 'England', 'Czechia', 'Finland', 'France', 'UK',\n",
       "       'Italy', 'Ukraine', 'Wales', 'Argentina', 'Kazakhstan', 'Poland',\n",
       "       'New Zealand', 'South Korea', 'Israel', 'Ireland',\n",
       "       'US Virgin Islands', 'Greece', 'Brazil', 'Bulgaria', 'Iran',\n",
       "       'Colombia', 'Switzerland', 'Sweden', 'Japan', 'Thailand', 'Latvia',\n",
       "       'Azerbaijan', 'Hungary', 'Türkiye', 'Norway', 'Taiwan', 'Iceland',\n",
       "       'Algeria', 'Spain', 'Egypt', 'Belgium', 'Mexico', 'Belarus',\n",
       "       'Nauru', 'Libya', 'Netherlands', 'Slovakia', 'Guyana', 'Chile',\n",
       "       'Croatia', 'Serbia', 'Portugal', 'Georgia', 'Singapore',\n",
       "       'British Virgin Islands', 'China', 'Lithuania', 'Scotland',\n",
       "       'Bolivia', 'Ecuador', 'Slovenia', 'Austria', 'Indonesia',\n",
       "       'Jamaica', 'UAE', 'Estonia', 'Vietnam', 'Venezuela', 'Cyprus',\n",
       "       'Denmark', 'Luxembourg', 'Kyrgyzstan', 'Belize',\n",
       "       'Bosnia and Herzegovina', 'Philippines', 'Cameroon', 'India',\n",
       "       'Trinidad and Tobago', 'Malaysia', 'Mongolia', 'Moldova', 'Peru',\n",
       "       'Uganda', 'Hong Kong', 'Lebanon', 'Tuvalu', 'Samoa', 'Iraq',\n",
       "       'Romania', 'Ivory Coast', 'Uzbekistan', 'Tonga', 'Tunisia',\n",
       "       'N.Ireland', 'Ghana', 'Puerto Rico', 'Papua New Guinea', 'Armenia',\n",
       "       'Saudi Arabia', 'Sri Lanka', 'Kuwait', 'Cambodia', 'Afghanistan',\n",
       "       'Tajikistan', 'Dominican Republic', 'Costa Rica', 'Yugoslavia',\n",
       "       'Oman', 'Malta', 'New Caledonia', 'Montenegro', 'Uruguay',\n",
       "       'Zimbabwe', 'USSR', 'Brunei', 'Morocco', 'Syria', 'Paraguay',\n",
       "       'Bahrain', 'Guatemala', 'Suriname', 'Tanzania', 'Bangladesh',\n",
       "       'Aruba', 'Panama', 'Niue', 'Kiribati', 'Fiji', 'Nicaragua',\n",
       "       'Isle of Man', 'Jordan', 'Palestine', 'Turkmenistan',\n",
       "       'Transnistria', 'Tahiti', 'Zambia', 'Grenada', 'Namibia',\n",
       "       'Cabo Verde', 'North Macedonia', 'Nigeria', 'Pakistan', 'Bahamas',\n",
       "       'El Salvador', 'Cook Islands', 'Nepal', 'The Gambia',\n",
       "       'Solomon Islands', 'Haiti', 'Abkhazia', 'Cayman Islands',\n",
       "       'Wallis and Futuna', 'Botswana', 'American Samoa', 'Laos', 'Kenya',\n",
       "       'Cuba', 'Togo', 'Rwanda', 'West Germany', 'Guinea', 'Benin',\n",
       "       'Mali', 'East Timor', 'Qatar', 'Ethiopia', 'Mauritania', 'Yemen',\n",
       "       'Central African Republic', 'Burkina Faso', 'Niger', 'Honduras',\n",
       "       'Senegal', 'Rhodesia', 'Angola', 'Vanuatu', 'Guinea-Bissau',\n",
       "       'Sierra Leone', 'Congo', 'Comoros'], dtype=object)"
      ]
     },
     "execution_count": 43,
     "metadata": {},
     "output_type": "execute_result"
    }
   ],
   "source": [
    "df[\"Origin\"].unique()"
   ]
  },
  {
   "cell_type": "code",
   "execution_count": 44,
   "metadata": {},
   "outputs": [
    {
     "data": {
      "text/plain": [
       "array(['WRPF', 'USPA', 'XPC', 'USA-UA', 'RPS', 'WRPF-AUS', 'SPF', 'FPO',\n",
       "       'WPC-SA', 'IPA', 'APF', 'ProRaw', 'UPA', 'USAPL', 'RUPC', 'AusPL',\n",
       "       'GPC-GUPU', '365Strong', 'IPF', 'BPU', 'IPL', 'WPA-RUS', 'USPC',\n",
       "       'BB', 'WRPF-CAN', 'APA', 'IrishPO', 'XPS', 'RhinoPC', 'GPC',\n",
       "       'UPC-Germany', 'WPC-Finland', 'GPC-AUS', 'NAP', 'Ireland-UA',\n",
       "       'CommonwealthPF', 'MM', 'EPF', 'NPA', 'FPR', 'AMP', 'ARPL', 'AAU',\n",
       "       'WPC', 'WPUF', 'GPA', 'CONBRAP', 'CAPO', 'NSF', 'GPC-GB',\n",
       "       'WPC-RUS', 'FIPL', 'NAPF', 'RPU', 'SSF', 'CPF', 'JPA', 'SVNL',\n",
       "       'AsianPF', 'WPC-Latvia', 'WPAU', 'XPC-Poland', 'PA', 'CPL',\n",
       "       'TPSSF', 'BP', 'RAWU', 'CPA', 'GPC-NZ', 'USPF', 'Hardcore',\n",
       "       'WRPF-Iceland', 'IKF', 'KPF', 'WUAP-SVK', 'USVIPF', 'GPC-CAN',\n",
       "       'APC', 'NZPF', 'GPC-RUS', 'WPPL-Belarus', 'SAPF', 'HPC',\n",
       "       'WRPF-Belarus', 'WRPF-Ireland', 'WPF-RUS', 'WRPF-Spain', 'FFForce',\n",
       "       'FESUPO', 'URPF', 'NASA', 'CPU', 'WPC-Poland', 'IrishPF', 'WDFPF',\n",
       "       'WRPF-Bulgaria', 'APU', 'WRPF-KAZ', 'AfricanPF', 'RawIronPL',\n",
       "       'WPA', 'ACHIPO', 'CPI', 'SLP', 'NZ-UA', 'Germany-UA', 'WPRO',\n",
       "       'GPU', 'AAP', 'WUAP', 'IPL-China', 'LMP', 'FEPOA', 'WPC-Egypt',\n",
       "       'BelPF', 'AEP', 'WPC-KAZ', 'WarriorPLF', 'BAWLA', 'UPC', 'PRPA',\n",
       "       'ChinaPA', 'WPC-UKR', 'WRPF-SRB', 'WPF', 'ORPF', 'RAW', 'HPF',\n",
       "       'UkrainePO', 'OceaniaPF', 'PZKFiTS', 'DPL', 'EPA', 'PLTRAW',\n",
       "       'NPAJ', 'SCI', 'UAEPA', 'WRPF-Lithuania', 'WUAP-AUT', 'ESDT',\n",
       "       'MPA', 'VGPF', 'DSF', 'GPC-POL', 'RawPower', 'UkrainePF', 'CAST',\n",
       "       'OEVK', 'WP-NZ', 'AAPLF', 'BVDK', 'KNKF-SP', 'GPL', 'CAPO-NZ',\n",
       "       'IranBBF', 'WPC-SVK', 'BPA', 'GPC-USA', 'WP', 'FECHIPO', 'Vityaz',\n",
       "       'WPC-Iceland', 'GPC-Scotland', 'Qatar-UA', 'WRPF-Argentina',\n",
       "       'LJTF', 'KuwaitPL', 'IPL-NZ', 'ScottishPL', 'ADAU', 'ABP',\n",
       "       'FECAPOLIF', 'HPLS', 'FELIPOME', 'EJTL', 'KDKS', 'SwissPL', 'PS',\n",
       "       'EPC', 'VietnamPA', 'CBLB', 'UkrainePA', 'WRPF-Brazil',\n",
       "       'WPC-Italy', 'PLSS', 'ILPL', 'WPC-India', 'BPO', 'WUAP-USA', 'BPF',\n",
       "       'RAW-UKR', 'WRPF-Sweden', 'SAST', 'GPA-CRO', 'WRPF-Slovakia',\n",
       "       'ACPA', 'FCST', 'HKWPA', 'KBGV', 'CSST', 'FEMEPO', 'NIPF', 'IPC',\n",
       "       'WNPF', 'WPC-France', 'WP-China', 'WPC-Portugal', 'Fedepotencia',\n",
       "       'FIAP', 'IDFPA', 'NauruPF', 'IPL-Spain', 'WPU', 'Croatia-UA',\n",
       "       'WUAP-Germany', 'WPCCP', 'SSSC', 'WRPF-Slovenia', 'BDFPA', 'MAP',\n",
       "       'BPC', 'MM-AUS', 'GPC-UKR', 'WPC-KGZ', 'PHPL', 'WPF-KRAWA',\n",
       "       'WPC-Israel', 'PLRD', 'PI', 'PAP', 'GPF', 'UDFPF', 'VPF',\n",
       "       'Hunpower', 'WP-USA', 'KRAFT', 'NordicPF', 'GPC-IRL', 'FALPO',\n",
       "       'HKPF', 'CRPL', 'FRPL', 'SPA', 'USPS', 'RAW-CAN', 'FFHMFAC',\n",
       "       'PFBD', 'IronBoy', 'WUAP-RUS', 'PAGermany', 'WelshPA', 'NORCAL',\n",
       "       'IBSA', 'APP', 'PLZS', 'AusPF', 'GPC-Portugal', 'FCP', 'ADFPA',\n",
       "       'WPC-Germany', 'ThaiPF', 'LFPH', 'BDFPF', 'HPO', 'GDFPF', 'NPL',\n",
       "       'England-UA', 'USSF', 'TAAP', 'MHSPLA', 'ADFPF', 'CyprusPF',\n",
       "       'ILPA', 'IPF-China', 'WRPF-Portugal', 'NZAWLA', 'GFP', 'AWF',\n",
       "       'WRPF-MEX', 'GPC-ISR', 'HPLS-UA', 'WRPF-EIRE', 'AusDFPF',\n",
       "       'WP-India', 'HTPL', 'FSFA', 'CPO', 'IDFPF', 'WPC-Moldova',\n",
       "       'RAW-Iceland', 'VDFPA', 'LGBT', 'SDFPF', 'SADFPA', 'USSports',\n",
       "       'UgandaPF', 'WPPL-Russia', 'ManxPL', 'NOVA', 'SPSS', 'PLH',\n",
       "       'GRAWA', 'WP-Niue', 'WP-Nauru', 'DBKV', 'WABDL', 'GPC-WUAP-CRO',\n",
       "       'WPFG', 'APUA', 'PNGPF', 'Canada-UA', 'AmericanSA', 'SPF-IRL',\n",
       "       'BVDG', 'WPSF-Belarus', 'UgandaPA', 'USMilAbroad', 'PRIDE',\n",
       "       'WPPL-Ukraine', 'WPLeague', 'WPA-GEO', 'IRP', 'Malaysia-UA',\n",
       "       'WRPF-HUN', 'GSF-Belarus', 'WPPO', 'Russia-UA', 'WRPF-POL',\n",
       "       'Czechia-UA', 'WRPF-Italy', 'NextGenPF', 'WPPL-Mexico', 'WUAP-CZ',\n",
       "       'DFPFNL', 'FBPD', 'CBPL', 'USARawBP', 'Poland-UA', 'IPA-AZE',\n",
       "       'PoliceAL', 'SSA', 'FHSAA', 'UPL', 'LPF', 'WAIA'], dtype=object)"
      ]
     },
     "execution_count": 44,
     "metadata": {},
     "output_type": "execute_result"
    }
   ],
   "source": [
    "df[\"Federation\"].unique()"
   ]
  },
  {
   "cell_type": "code",
   "execution_count": 45,
   "metadata": {},
   "outputs": [
    {
     "data": {
      "text/plain": [
       "0         2019-04-27\n",
       "1         2022-07-29\n",
       "2         2021-04-24\n",
       "3         2019-08-03\n",
       "4         2019-04-27\n",
       "             ...    \n",
       "451795    2016-02-05\n",
       "451796    2013-06-08\n",
       "451797    2017-04-20\n",
       "451798    2020-02-15\n",
       "451799    2020-12-25\n",
       "Name: Competition Date, Length: 451800, dtype: object"
      ]
     },
     "execution_count": 45,
     "metadata": {},
     "output_type": "execute_result"
    }
   ],
   "source": [
    "df[\"Competition Date\"]"
   ]
  },
  {
   "attachments": {},
   "cell_type": "markdown",
   "metadata": {},
   "source": [
    "We can see that this is stored as a object but it may be useful to store as Datetime type"
   ]
  },
  {
   "cell_type": "code",
   "execution_count": 46,
   "metadata": {},
   "outputs": [],
   "source": [
    "df[\"Date\"] = pd.to_datetime(df['Competition Date'])"
   ]
  },
  {
   "cell_type": "code",
   "execution_count": 51,
   "metadata": {},
   "outputs": [
    {
     "data": {
      "text/plain": [
       "dtype('<M8[ns]')"
      ]
     },
     "execution_count": 51,
     "metadata": {},
     "output_type": "execute_result"
    }
   ],
   "source": [
    "df[\"Date\"].dtype"
   ]
  },
  {
   "cell_type": "code",
   "execution_count": 53,
   "metadata": {},
   "outputs": [
    {
     "data": {
      "text/html": [
       "<div>\n",
       "<style scoped>\n",
       "    .dataframe tbody tr th:only-of-type {\n",
       "        vertical-align: middle;\n",
       "    }\n",
       "\n",
       "    .dataframe tbody tr th {\n",
       "        vertical-align: top;\n",
       "    }\n",
       "\n",
       "    .dataframe thead th {\n",
       "        text-align: right;\n",
       "    }\n",
       "</style>\n",
       "<table border=\"1\" class=\"dataframe\">\n",
       "  <thead>\n",
       "    <tr style=\"text-align: right;\">\n",
       "      <th></th>\n",
       "      <th>Name</th>\n",
       "      <th>Instagram Handle</th>\n",
       "      <th>Origin</th>\n",
       "      <th>Federation</th>\n",
       "      <th>Competition Date</th>\n",
       "      <th>Competition Country</th>\n",
       "      <th>Competition City</th>\n",
       "      <th>Gender</th>\n",
       "      <th>Equipment</th>\n",
       "      <th>Age</th>\n",
       "      <th>Weight</th>\n",
       "      <th>Class</th>\n",
       "      <th>Squat</th>\n",
       "      <th>Bench</th>\n",
       "      <th>Deadlift</th>\n",
       "      <th>Total</th>\n",
       "      <th>Dots</th>\n",
       "      <th>Date</th>\n",
       "    </tr>\n",
       "  </thead>\n",
       "  <tbody>\n",
       "    <tr>\n",
       "      <th>0</th>\n",
       "      <td>Marianna Gasparyan</td>\n",
       "      <td>power_mayan</td>\n",
       "      <td>USA</td>\n",
       "      <td>WRPF</td>\n",
       "      <td>2019-04-27</td>\n",
       "      <td>USA</td>\n",
       "      <td>CA</td>\n",
       "      <td>F</td>\n",
       "      <td>Wraps</td>\n",
       "      <td>30.0</td>\n",
       "      <td>123.4</td>\n",
       "      <td>123</td>\n",
       "      <td>573.2</td>\n",
       "      <td>292.1</td>\n",
       "      <td>485.0</td>\n",
       "      <td>1350.3</td>\n",
       "      <td>709.96</td>\n",
       "      <td>2019-04-27</td>\n",
       "    </tr>\n",
       "    <tr>\n",
       "      <th>1</th>\n",
       "      <td>Kristy Hawkins</td>\n",
       "      <td>kristy_hawkins</td>\n",
       "      <td>USA</td>\n",
       "      <td>WRPF</td>\n",
       "      <td>2022-07-29</td>\n",
       "      <td>USA</td>\n",
       "      <td>VA</td>\n",
       "      <td>F</td>\n",
       "      <td>Wraps</td>\n",
       "      <td>41.0</td>\n",
       "      <td>163.8</td>\n",
       "      <td>165</td>\n",
       "      <td>639.3</td>\n",
       "      <td>336.2</td>\n",
       "      <td>611.7</td>\n",
       "      <td>1587.3</td>\n",
       "      <td>704.76</td>\n",
       "      <td>2022-07-29</td>\n",
       "    </tr>\n",
       "    <tr>\n",
       "      <th>2</th>\n",
       "      <td>Hunter Henderson #1</td>\n",
       "      <td>huntermhenderson</td>\n",
       "      <td>USA</td>\n",
       "      <td>WRPF</td>\n",
       "      <td>2021-04-24</td>\n",
       "      <td>USA</td>\n",
       "      <td>CA</td>\n",
       "      <td>F</td>\n",
       "      <td>Wraps</td>\n",
       "      <td>26.0</td>\n",
       "      <td>163.8</td>\n",
       "      <td>165</td>\n",
       "      <td>650.3</td>\n",
       "      <td>325.1</td>\n",
       "      <td>573.2</td>\n",
       "      <td>1548.7</td>\n",
       "      <td>687.63</td>\n",
       "      <td>2021-04-24</td>\n",
       "    </tr>\n",
       "    <tr>\n",
       "      <th>3</th>\n",
       "      <td>Chakera Ingram</td>\n",
       "      <td>c.c_ingram</td>\n",
       "      <td>USA</td>\n",
       "      <td>USPA</td>\n",
       "      <td>2019-08-03</td>\n",
       "      <td>USA</td>\n",
       "      <td>TX</td>\n",
       "      <td>F</td>\n",
       "      <td>Wraps</td>\n",
       "      <td>24.0</td>\n",
       "      <td>177.2</td>\n",
       "      <td>181</td>\n",
       "      <td>639.3</td>\n",
       "      <td>374.8</td>\n",
       "      <td>595.2</td>\n",
       "      <td>1609.3</td>\n",
       "      <td>686.14</td>\n",
       "      <td>2019-08-03</td>\n",
       "    </tr>\n",
       "    <tr>\n",
       "      <th>4</th>\n",
       "      <td>Stefanie Cohen</td>\n",
       "      <td>steficohen</td>\n",
       "      <td>USA</td>\n",
       "      <td>WRPF</td>\n",
       "      <td>2019-04-27</td>\n",
       "      <td>USA</td>\n",
       "      <td>CA</td>\n",
       "      <td>F</td>\n",
       "      <td>Wraps</td>\n",
       "      <td>27.0</td>\n",
       "      <td>119.9</td>\n",
       "      <td>123</td>\n",
       "      <td>507.0</td>\n",
       "      <td>242.5</td>\n",
       "      <td>529.1</td>\n",
       "      <td>1278.6</td>\n",
       "      <td>685.45</td>\n",
       "      <td>2019-04-27</td>\n",
       "    </tr>\n",
       "  </tbody>\n",
       "</table>\n",
       "</div>"
      ],
      "text/plain": [
       "                  Name  Instagram Handle Origin Federation Competition Date  \\\n",
       "0   Marianna Gasparyan       power_mayan    USA       WRPF       2019-04-27   \n",
       "1       Kristy Hawkins    kristy_hawkins    USA       WRPF       2022-07-29   \n",
       "2  Hunter Henderson #1  huntermhenderson    USA       WRPF       2021-04-24   \n",
       "3       Chakera Ingram        c.c_ingram    USA       USPA       2019-08-03   \n",
       "4       Stefanie Cohen        steficohen    USA       WRPF       2019-04-27   \n",
       "\n",
       "  Competition Country Competition City Gender Equipment   Age  Weight Class  \\\n",
       "0                 USA               CA      F     Wraps  30.0   123.4   123   \n",
       "1                 USA               VA      F     Wraps  41.0   163.8   165   \n",
       "2                 USA               CA      F     Wraps  26.0   163.8   165   \n",
       "3                 USA               TX      F     Wraps  24.0   177.2   181   \n",
       "4                 USA               CA      F     Wraps  27.0   119.9   123   \n",
       "\n",
       "   Squat  Bench  Deadlift   Total    Dots       Date  \n",
       "0  573.2  292.1     485.0  1350.3  709.96 2019-04-27  \n",
       "1  639.3  336.2     611.7  1587.3  704.76 2022-07-29  \n",
       "2  650.3  325.1     573.2  1548.7  687.63 2021-04-24  \n",
       "3  639.3  374.8     595.2  1609.3  686.14 2019-08-03  \n",
       "4  507.0  242.5     529.1  1278.6  685.45 2019-04-27  "
      ]
     },
     "execution_count": 53,
     "metadata": {},
     "output_type": "execute_result"
    }
   ],
   "source": [
    "df.head()"
   ]
  },
  {
   "cell_type": "code",
   "execution_count": 54,
   "metadata": {},
   "outputs": [
    {
     "data": {
      "text/plain": [
       "array(['USA', 'Australia', 'Finland', 'South Africa', 'Russia', 'Ukraine',\n",
       "       'England', 'UK', 'Malta', 'Canada', 'Ireland', 'Wales',\n",
       "       'Argentina', 'Germany', 'New Zealand', 'South Korea', 'Sweden',\n",
       "       'Israel', 'Brazil', 'Norway', 'Colombia', 'Italy', 'Kyrgyzstan',\n",
       "       'Poland', 'Kazakhstan', 'Hungary', 'Japan', 'UAE', 'Latvia',\n",
       "       'Czechia', 'Türkiye', 'Slovakia', 'Iceland', 'Luxembourg',\n",
       "       'Portugal', 'US Virgin Islands', 'Belarus', 'Serbia', 'Lithuania',\n",
       "       'Spain', 'France', 'Uruguay', 'Bulgaria', 'Morocco', 'Chile',\n",
       "       'Austria', 'China', 'Mexico', 'Egypt', 'Greece', 'India',\n",
       "       'Bosnia and Herzegovina', 'Denmark', 'Azerbaijan', 'Scotland',\n",
       "       'Netherlands', 'Jamaica', 'Malaysia', 'Belgium', 'Slovenia',\n",
       "       'Costa Rica', 'Iran', 'Belize', 'Georgia', 'Qatar', 'Estonia',\n",
       "       'Kuwait', 'Mongolia', 'Bolivia', 'Cameroon', 'Peru', 'Croatia',\n",
       "       'Switzerland', 'Singapore', 'Vietnam', 'USSR', 'Ecuador',\n",
       "       'N.Ireland', 'Uganda', 'Hong Kong', 'Papua New Guinea', 'Algeria',\n",
       "       'Panama', 'Guatemala', 'Uzbekistan', 'Nauru', 'Saudi Arabia',\n",
       "       'Philippines', 'Venezuela', 'Dominican Republic', 'Moldova',\n",
       "       'Yugoslavia', 'Monaco', 'New Caledonia', 'Romania', 'Brunei',\n",
       "       'Puerto Rico', 'East Germany', 'Paraguay', 'Thailand', 'Cyprus',\n",
       "       'Cayman Islands', 'Isle of Man', 'Niue', 'West Germany', 'Nigeria',\n",
       "       'Congo', 'Indonesia', 'Jordan', 'Taiwan', 'Nicaragua'],\n",
       "      dtype=object)"
      ]
     },
     "execution_count": 54,
     "metadata": {},
     "output_type": "execute_result"
    }
   ],
   "source": [
    "df[\"Competition Country\"].unique()"
   ]
  },
  {
   "cell_type": "code",
   "execution_count": 55,
   "metadata": {},
   "outputs": [
    {
     "data": {
      "text/plain": [
       "array(['CA', 'VA', 'TX', 'OH', 'NC', 'FL', 'NSW', nan, 'GT', 'MO', 'NY',\n",
       "       'OK', 'VIC', 'IA', 'TN', 'PA', 'MOW', 'IL', 'QLD', 'MD', 'NJ',\n",
       "       'KHA', 'AR', 'AB', 'KY', 'UT', 'SN', 'RYA', 'KYA', 'NV', 'IN',\n",
       "       'NIZ', 'KRS', 'TAS', 'OR', 'SC', 'SA', 'ROS', 'QC', 'KS', 'MI',\n",
       "       'LEN', 'HI', 'MS', 'VLA', 'MA', 'GA', 'LA', 'WI', 'AL', 'WA',\n",
       "       'NVS', 'ON', 'AZ', 'NH', 'SVE', 'WV', 'VGG', 'NE', 'WKO', 'PNZ',\n",
       "       'CT', 'KIR', 'AKL', 'KDA', 'BC', 'TUL', 'CO', 'ME', 'MV', 'VT',\n",
       "       'ACT', 'NM', 'BE', 'STA', 'BA', 'CHE', 'HUN', 'RI', 'MN', 'NB',\n",
       "       'ND', 'MB', 'JL', 'NS', 'AK', 'WGN', 'ULY', 'VLG', 'TYU', 'WG',\n",
       "       'ARK', 'CRE', 'RM', 'MT', 'CN', 'PE', 'ID', 'ORL', 'NRW', 'YAR',\n",
       "       'AMU', 'CAN', 'HKB', 'BW', 'CB', 'MWT', 'BRY', 'IRK', 'CM', 'SAR',\n",
       "       'SD', 'NL', 'DE', 'OMS', 'NTL', 'WM', 'WY', 'OTA', 'VOR', 'KLU',\n",
       "       'ZAB', 'NW', 'PRI', 'KGD', 'SK', 'SE', 'TAM', 'SH', 'SAM', 'GD',\n",
       "       'RS', 'DC', 'BOP', 'SP', 'DF', 'PER', 'ATT', 'PEL', 'ALT', 'CQ',\n",
       "       'YAN', 'GE', 'TOM', 'SW', 'BJ', 'KEM', 'HH', 'CU', 'BY', 'KB',\n",
       "       'MUR', 'KOS', 'SM', 'ORE', 'KR', 'KO', 'CE', 'NI', 'KHM', 'BB',\n",
       "       'SAA', 'SI', 'HE', 'TVE', 'NT', 'TA', 'EM', 'TH', 'LIP', 'RP',\n",
       "       'IVA', 'GX', 'BEL', 'GL', 'CH', 'PR', 'YU', 'HEN', 'JX', 'NGR',\n",
       "       'JS', 'STL', 'UD', 'ZE', 'ZH', 'TM', 'ST', 'XJ', 'EMT', 'TL',\n",
       "       'PSK', 'HG', 'SJ', 'CS', 'SMO', 'WC', 'GR', 'TKI', 'GIS', 'AST',\n",
       "       'YNE', 'MOS', 'KGN', 'AD', 'DL', 'MG', 'VE', 'JA', 'YEV', 'RJ',\n",
       "       'KA', 'MH', 'HR', 'SB', 'MAG', 'WTC'], dtype=object)"
      ]
     },
     "execution_count": 55,
     "metadata": {},
     "output_type": "execute_result"
    }
   ],
   "source": [
    "df[\"Competition City\"].unique()"
   ]
  },
  {
   "cell_type": "code",
   "execution_count": 56,
   "metadata": {},
   "outputs": [
    {
     "data": {
      "text/plain": [
       "array(['F', 'M', 'Mx'], dtype=object)"
      ]
     },
     "execution_count": 56,
     "metadata": {},
     "output_type": "execute_result"
    }
   ],
   "source": [
    "df[\"Gender\"].unique()"
   ]
  },
  {
   "cell_type": "code",
   "execution_count": 57,
   "metadata": {},
   "outputs": [
    {
     "data": {
      "text/plain": [
       "array(['Wraps', 'Raw'], dtype=object)"
      ]
     },
     "execution_count": 57,
     "metadata": {},
     "output_type": "execute_result"
    }
   ],
   "source": [
    "df[\"Equipment\"].unique()"
   ]
  },
  {
   "attachments": {},
   "cell_type": "markdown",
   "metadata": {},
   "source": [
    "One thing to note is that some of the columns have spaces in them and this could become a problem with certain plugins/databases"
   ]
  },
  {
   "cell_type": "code",
   "execution_count": 58,
   "metadata": {},
   "outputs": [
    {
     "data": {
      "text/plain": [
       "Index(['Name', 'Instagram Handle', 'Origin', 'Federation', 'Competition Date',\n",
       "       'Competition Country', 'Competition City', 'Gender', 'Equipment', 'Age',\n",
       "       'Weight', 'Class', 'Squat', 'Bench', 'Deadlift', 'Total', 'Dots',\n",
       "       'Date'],\n",
       "      dtype='object')"
      ]
     },
     "execution_count": 58,
     "metadata": {},
     "output_type": "execute_result"
    }
   ],
   "source": [
    "df.columns"
   ]
  },
  {
   "cell_type": "code",
   "execution_count": 59,
   "metadata": {},
   "outputs": [],
   "source": [
    "df.columns = df.columns.str.replace(' ', '_')"
   ]
  },
  {
   "cell_type": "code",
   "execution_count": 62,
   "metadata": {},
   "outputs": [
    {
     "name": "stdout",
     "output_type": "stream",
     "text": [
      "Index(['Name', 'Instagram_Handle', 'Origin', 'Federation', 'Competition_Date',\n",
      "       'Competition_Country', 'Competition_City', 'Gender', 'Equipment', 'Age',\n",
      "       'Weight', 'Class', 'Squat', 'Bench', 'Deadlift', 'Total', 'Dots',\n",
      "       'Date'],\n",
      "      dtype='object')\n"
     ]
    }
   ],
   "source": [
    "print(df.columns)"
   ]
  },
  {
   "attachments": {},
   "cell_type": "markdown",
   "metadata": {},
   "source": [
    "# Conclusion\n",
    "Everything now looks pretty good, let us now implement this in a proper python script so it will be easier to refactor and save the processed data in a new location where we can then do further analysis"
   ]
  },
  {
   "attachments": {},
   "cell_type": "markdown",
   "metadata": {},
   "source": []
  }
 ],
 "metadata": {
  "kernelspec": {
   "display_name": "fgvc_test",
   "language": "python",
   "name": "python3"
  },
  "language_info": {
   "codemirror_mode": {
    "name": "ipython",
    "version": 3
   },
   "file_extension": ".py",
   "mimetype": "text/x-python",
   "name": "python",
   "nbconvert_exporter": "python",
   "pygments_lexer": "ipython3",
   "version": "3.9.16"
  },
  "orig_nbformat": 4
 },
 "nbformat": 4,
 "nbformat_minor": 2
}
