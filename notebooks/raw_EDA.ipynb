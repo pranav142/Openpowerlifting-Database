{
 "cells": [
  {
   "cell_type": "code",
   "execution_count": 1,
   "metadata": {},
   "outputs": [],
   "source": [
    "import pandas as pd \n",
    "import matplotlib.pyplot as plt"
   ]
  },
  {
   "cell_type": "code",
   "execution_count": 2,
   "metadata": {},
   "outputs": [],
   "source": [
    "RAW_DATA_PATH = \"../data/raw/openpowerlifting.csv\""
   ]
  },
  {
   "cell_type": "code",
   "execution_count": 8,
   "metadata": {},
   "outputs": [
    {
     "name": "stderr",
     "output_type": "stream",
     "text": [
      "C:\\Users\\pknad\\AppData\\Local\\Temp\\ipykernel_24028\\2799820855.py:1: DtypeWarning: Columns (0,11,13,14,15,16,17) have mixed types. Specify dtype option on import or set low_memory=False.\n",
      "  df = pd.read_csv(RAW_DATA_PATH)\n"
     ]
    }
   ],
   "source": [
    "df = pd.read_csv(RAW_DATA_PATH)"
   ]
  },
  {
   "cell_type": "code",
   "execution_count": 9,
   "metadata": {},
   "outputs": [
    {
     "name": "stdout",
     "output_type": "stream",
     "text": [
      "Index(['164001', 'Jessica Pandini', 'Unnamed: 2', 'Unnamed: 3', 'FIPL',\n",
      "       '2023-02-17', 'Italy', 'Unnamed: 7', 'F', 'Raw', '23~', '148.6', '152',\n",
      "       '259', '148.8', '314.1', '722', '338.31'],\n",
      "      dtype='object')\n"
     ]
    }
   ],
   "source": [
    "print(df.columns)"
   ]
  },
  {
   "cell_type": "code",
   "execution_count": 5,
   "metadata": {},
   "outputs": [
    {
     "name": "stdout",
     "output_type": "stream",
     "text": [
      "   424501    Chris Scotchings Unnamed: 2 England      EPA  2021-06-11  \\\n",
      "0  424502       Elena Kulubya        NaN     NaN    FHSAA  2022-02-10   \n",
      "1  424503        Abrahim Riaz        NaN     NaN      APF  2023-03-18   \n",
      "2  424504   Valeriy Sholokhov        NaN  Russia  WPA-RUS  2016-02-20   \n",
      "3  424505  Aleksandr Starovit        NaN     NaN      RPU  2016-11-26   \n",
      "4  424506       Oleg Evsyukov        NaN     NaN      RPU  2016-12-17   \n",
      "\n",
      "  England.1 Unnamed: 7  M  Raw  36~  259.8  264 Unnamed: 13  297.6  \\\n",
      "0       USA         FL  F  Raw  NaN  162.6  168         NaN    175   \n",
      "1       USA         IL  M  Raw   17  196.3  198         NaN  264.5   \n",
      "2    Russia        AMU  M  Raw  19~  146.4  148         NaN  220.4   \n",
      "3    Russia        PRI  M  Raw  NaN  146.4  148         NaN  220.4   \n",
      "4    Russia        LEN  M  Raw   21  162.4  165         NaN    237   \n",
      "\n",
      "  Unnamed: 15 297.6.1  78.01  \n",
      "0         NaN     175  78.01  \n",
      "1         NaN   264.5  78.01  \n",
      "2         NaN   220.4  78.00  \n",
      "3         NaN   220.4  78.00  \n",
      "4         NaN     237  78.00  \n"
     ]
    }
   ],
   "source": [
    "print(df.head())"
   ]
  },
  {
   "cell_type": "code",
   "execution_count": null,
   "metadata": {},
   "outputs": [],
   "source": []
  }
 ],
 "metadata": {
  "kernelspec": {
   "display_name": "fgvc_test",
   "language": "python",
   "name": "python3"
  },
  "language_info": {
   "codemirror_mode": {
    "name": "ipython",
    "version": 3
   },
   "file_extension": ".py",
   "mimetype": "text/x-python",
   "name": "python",
   "nbconvert_exporter": "python",
   "pygments_lexer": "ipython3",
   "version": "3.9.16"
  },
  "orig_nbformat": 4
 },
 "nbformat": 4,
 "nbformat_minor": 2
}
