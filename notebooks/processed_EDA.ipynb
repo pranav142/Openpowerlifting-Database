{
 "cells": [
  {
   "attachments": {},
   "cell_type": "markdown",
   "metadata": {},
   "source": [
    "# Introduction\n",
    "In this notebook we will finally be taking a deep dive into the data we have scraped to gain interesting insights on the powerlifting community. I am particulary interested in what meterics effect strength, particularly the bench press."
   ]
  },
  {
   "cell_type": "code",
   "execution_count": 48,
   "metadata": {},
   "outputs": [],
   "source": [
    "import matplotlib.pyplot as plt \n",
    "import numpy as np \n",
    "import pandas as pd\n",
    "import geopandas as gpd"
   ]
  },
  {
   "cell_type": "code",
   "execution_count": 4,
   "metadata": {},
   "outputs": [
    {
     "data": {
      "text/html": [
       "<div>\n",
       "<style scoped>\n",
       "    .dataframe tbody tr th:only-of-type {\n",
       "        vertical-align: middle;\n",
       "    }\n",
       "\n",
       "    .dataframe tbody tr th {\n",
       "        vertical-align: top;\n",
       "    }\n",
       "\n",
       "    .dataframe thead th {\n",
       "        text-align: right;\n",
       "    }\n",
       "</style>\n",
       "<table border=\"1\" class=\"dataframe\">\n",
       "  <thead>\n",
       "    <tr style=\"text-align: right;\">\n",
       "      <th></th>\n",
       "      <th>Name</th>\n",
       "      <th>Instagram_Handle</th>\n",
       "      <th>Origin</th>\n",
       "      <th>Federation</th>\n",
       "      <th>Competition_Date</th>\n",
       "      <th>Competition_Country</th>\n",
       "      <th>Competition_City</th>\n",
       "      <th>Gender</th>\n",
       "      <th>Equipment</th>\n",
       "      <th>Age</th>\n",
       "      <th>Weight</th>\n",
       "      <th>Class</th>\n",
       "      <th>Squat</th>\n",
       "      <th>Bench</th>\n",
       "      <th>Deadlift</th>\n",
       "      <th>Total</th>\n",
       "      <th>Dots</th>\n",
       "    </tr>\n",
       "  </thead>\n",
       "  <tbody>\n",
       "    <tr>\n",
       "      <th>0</th>\n",
       "      <td>Marianna Gasparyan</td>\n",
       "      <td>power_mayan</td>\n",
       "      <td>USA</td>\n",
       "      <td>WRPF</td>\n",
       "      <td>2019-04-27</td>\n",
       "      <td>USA</td>\n",
       "      <td>CA</td>\n",
       "      <td>F</td>\n",
       "      <td>Wraps</td>\n",
       "      <td>30.0</td>\n",
       "      <td>123.4</td>\n",
       "      <td>123.0</td>\n",
       "      <td>573.2</td>\n",
       "      <td>292.1</td>\n",
       "      <td>485.0</td>\n",
       "      <td>1350.3</td>\n",
       "      <td>709.96</td>\n",
       "    </tr>\n",
       "    <tr>\n",
       "      <th>1</th>\n",
       "      <td>Kristy Hawkins</td>\n",
       "      <td>kristy_hawkins</td>\n",
       "      <td>USA</td>\n",
       "      <td>WRPF</td>\n",
       "      <td>2022-07-29</td>\n",
       "      <td>USA</td>\n",
       "      <td>VA</td>\n",
       "      <td>F</td>\n",
       "      <td>Wraps</td>\n",
       "      <td>41.0</td>\n",
       "      <td>163.8</td>\n",
       "      <td>165.0</td>\n",
       "      <td>639.3</td>\n",
       "      <td>336.2</td>\n",
       "      <td>611.7</td>\n",
       "      <td>1587.3</td>\n",
       "      <td>704.76</td>\n",
       "    </tr>\n",
       "    <tr>\n",
       "      <th>2</th>\n",
       "      <td>Hunter Henderson #1</td>\n",
       "      <td>huntermhenderson</td>\n",
       "      <td>USA</td>\n",
       "      <td>WRPF</td>\n",
       "      <td>2021-04-24</td>\n",
       "      <td>USA</td>\n",
       "      <td>CA</td>\n",
       "      <td>F</td>\n",
       "      <td>Wraps</td>\n",
       "      <td>26.0</td>\n",
       "      <td>163.8</td>\n",
       "      <td>165.0</td>\n",
       "      <td>650.3</td>\n",
       "      <td>325.1</td>\n",
       "      <td>573.2</td>\n",
       "      <td>1548.7</td>\n",
       "      <td>687.63</td>\n",
       "    </tr>\n",
       "    <tr>\n",
       "      <th>3</th>\n",
       "      <td>Chakera Ingram</td>\n",
       "      <td>c.c_ingram</td>\n",
       "      <td>USA</td>\n",
       "      <td>USPA</td>\n",
       "      <td>2019-08-03</td>\n",
       "      <td>USA</td>\n",
       "      <td>TX</td>\n",
       "      <td>F</td>\n",
       "      <td>Wraps</td>\n",
       "      <td>24.0</td>\n",
       "      <td>177.2</td>\n",
       "      <td>181.0</td>\n",
       "      <td>639.3</td>\n",
       "      <td>374.8</td>\n",
       "      <td>595.2</td>\n",
       "      <td>1609.3</td>\n",
       "      <td>686.14</td>\n",
       "    </tr>\n",
       "    <tr>\n",
       "      <th>4</th>\n",
       "      <td>Stefanie Cohen</td>\n",
       "      <td>steficohen</td>\n",
       "      <td>USA</td>\n",
       "      <td>WRPF</td>\n",
       "      <td>2019-04-27</td>\n",
       "      <td>USA</td>\n",
       "      <td>CA</td>\n",
       "      <td>F</td>\n",
       "      <td>Wraps</td>\n",
       "      <td>27.0</td>\n",
       "      <td>119.9</td>\n",
       "      <td>123.0</td>\n",
       "      <td>507.0</td>\n",
       "      <td>242.5</td>\n",
       "      <td>529.1</td>\n",
       "      <td>1278.6</td>\n",
       "      <td>685.45</td>\n",
       "    </tr>\n",
       "  </tbody>\n",
       "</table>\n",
       "</div>"
      ],
      "text/plain": [
       "                  Name  Instagram_Handle Origin Federation Competition_Date  \\\n",
       "0   Marianna Gasparyan       power_mayan    USA       WRPF       2019-04-27   \n",
       "1       Kristy Hawkins    kristy_hawkins    USA       WRPF       2022-07-29   \n",
       "2  Hunter Henderson #1  huntermhenderson    USA       WRPF       2021-04-24   \n",
       "3       Chakera Ingram        c.c_ingram    USA       USPA       2019-08-03   \n",
       "4       Stefanie Cohen        steficohen    USA       WRPF       2019-04-27   \n",
       "\n",
       "  Competition_Country Competition_City Gender Equipment   Age  Weight  Class  \\\n",
       "0                 USA               CA      F     Wraps  30.0   123.4  123.0   \n",
       "1                 USA               VA      F     Wraps  41.0   163.8  165.0   \n",
       "2                 USA               CA      F     Wraps  26.0   163.8  165.0   \n",
       "3                 USA               TX      F     Wraps  24.0   177.2  181.0   \n",
       "4                 USA               CA      F     Wraps  27.0   119.9  123.0   \n",
       "\n",
       "   Squat  Bench  Deadlift   Total    Dots  \n",
       "0  573.2  292.1     485.0  1350.3  709.96  \n",
       "1  639.3  336.2     611.7  1587.3  704.76  \n",
       "2  650.3  325.1     573.2  1548.7  687.63  \n",
       "3  639.3  374.8     595.2  1609.3  686.14  \n",
       "4  507.0  242.5     529.1  1278.6  685.45  "
      ]
     },
     "execution_count": 4,
     "metadata": {},
     "output_type": "execute_result"
    }
   ],
   "source": [
    "PROCESSED_DATA_PATH = \"../data/processed/processed_lifting_data.csv\"\n",
    "\n",
    "df = pd.read_csv(PROCESSED_DATA_PATH)\n",
    "\n",
    "df.head()"
   ]
  },
  {
   "cell_type": "code",
   "execution_count": 5,
   "metadata": {},
   "outputs": [
    {
     "data": {
      "text/html": [
       "<div>\n",
       "<style scoped>\n",
       "    .dataframe tbody tr th:only-of-type {\n",
       "        vertical-align: middle;\n",
       "    }\n",
       "\n",
       "    .dataframe tbody tr th {\n",
       "        vertical-align: top;\n",
       "    }\n",
       "\n",
       "    .dataframe thead th {\n",
       "        text-align: right;\n",
       "    }\n",
       "</style>\n",
       "<table border=\"1\" class=\"dataframe\">\n",
       "  <thead>\n",
       "    <tr style=\"text-align: right;\">\n",
       "      <th></th>\n",
       "      <th>Age</th>\n",
       "      <th>Weight</th>\n",
       "      <th>Class</th>\n",
       "      <th>Squat</th>\n",
       "      <th>Bench</th>\n",
       "      <th>Deadlift</th>\n",
       "      <th>Total</th>\n",
       "      <th>Dots</th>\n",
       "    </tr>\n",
       "  </thead>\n",
       "  <tbody>\n",
       "    <tr>\n",
       "      <th>count</th>\n",
       "      <td>350687.000000</td>\n",
       "      <td>451800.000000</td>\n",
       "      <td>447686.000000</td>\n",
       "      <td>326940.000000</td>\n",
       "      <td>423897.000000</td>\n",
       "      <td>364841.000000</td>\n",
       "      <td>451800.00000</td>\n",
       "      <td>451800.000000</td>\n",
       "    </tr>\n",
       "    <tr>\n",
       "      <th>mean</th>\n",
       "      <td>28.284579</td>\n",
       "      <td>184.053829</td>\n",
       "      <td>187.539224</td>\n",
       "      <td>362.027168</td>\n",
       "      <td>243.775077</td>\n",
       "      <td>417.623612</td>\n",
       "      <td>828.80701</td>\n",
       "      <td>273.977700</td>\n",
       "    </tr>\n",
       "    <tr>\n",
       "      <th>std</th>\n",
       "      <td>11.297943</td>\n",
       "      <td>47.130080</td>\n",
       "      <td>45.548741</td>\n",
       "      <td>132.892094</td>\n",
       "      <td>99.467008</td>\n",
       "      <td>132.305954</td>\n",
       "      <td>433.83273</td>\n",
       "      <td>120.755537</td>\n",
       "    </tr>\n",
       "    <tr>\n",
       "      <th>min</th>\n",
       "      <td>0.000000</td>\n",
       "      <td>35.000000</td>\n",
       "      <td>59.000000</td>\n",
       "      <td>2.200000</td>\n",
       "      <td>10.300000</td>\n",
       "      <td>2.200000</td>\n",
       "      <td>52.50000</td>\n",
       "      <td>33.690000</td>\n",
       "    </tr>\n",
       "    <tr>\n",
       "      <th>25%</th>\n",
       "      <td>20.000000</td>\n",
       "      <td>148.800000</td>\n",
       "      <td>153.000000</td>\n",
       "      <td>253.500000</td>\n",
       "      <td>154.300000</td>\n",
       "      <td>308.600000</td>\n",
       "      <td>450.00000</td>\n",
       "      <td>158.220000</td>\n",
       "    </tr>\n",
       "    <tr>\n",
       "      <th>50%</th>\n",
       "      <td>26.000000</td>\n",
       "      <td>179.600000</td>\n",
       "      <td>183.000000</td>\n",
       "      <td>358.200000</td>\n",
       "      <td>248.000000</td>\n",
       "      <td>424.400000</td>\n",
       "      <td>804.70000</td>\n",
       "      <td>303.350000</td>\n",
       "    </tr>\n",
       "    <tr>\n",
       "      <th>75%</th>\n",
       "      <td>33.000000</td>\n",
       "      <td>213.400000</td>\n",
       "      <td>220.000000</td>\n",
       "      <td>451.900000</td>\n",
       "      <td>314.100000</td>\n",
       "      <td>513.600000</td>\n",
       "      <td>1179.40000</td>\n",
       "      <td>365.630000</td>\n",
       "    </tr>\n",
       "    <tr>\n",
       "      <th>max</th>\n",
       "      <td>96.000000</td>\n",
       "      <td>573.200000</td>\n",
       "      <td>341.000000</td>\n",
       "      <td>1102.300000</td>\n",
       "      <td>782.600000</td>\n",
       "      <td>1030.600000</td>\n",
       "      <td>2606.90000</td>\n",
       "      <td>709.960000</td>\n",
       "    </tr>\n",
       "  </tbody>\n",
       "</table>\n",
       "</div>"
      ],
      "text/plain": [
       "                 Age         Weight          Class          Squat  \\\n",
       "count  350687.000000  451800.000000  447686.000000  326940.000000   \n",
       "mean       28.284579     184.053829     187.539224     362.027168   \n",
       "std        11.297943      47.130080      45.548741     132.892094   \n",
       "min         0.000000      35.000000      59.000000       2.200000   \n",
       "25%        20.000000     148.800000     153.000000     253.500000   \n",
       "50%        26.000000     179.600000     183.000000     358.200000   \n",
       "75%        33.000000     213.400000     220.000000     451.900000   \n",
       "max        96.000000     573.200000     341.000000    1102.300000   \n",
       "\n",
       "               Bench       Deadlift         Total           Dots  \n",
       "count  423897.000000  364841.000000  451800.00000  451800.000000  \n",
       "mean      243.775077     417.623612     828.80701     273.977700  \n",
       "std        99.467008     132.305954     433.83273     120.755537  \n",
       "min        10.300000       2.200000      52.50000      33.690000  \n",
       "25%       154.300000     308.600000     450.00000     158.220000  \n",
       "50%       248.000000     424.400000     804.70000     303.350000  \n",
       "75%       314.100000     513.600000    1179.40000     365.630000  \n",
       "max       782.600000    1030.600000    2606.90000     709.960000  "
      ]
     },
     "execution_count": 5,
     "metadata": {},
     "output_type": "execute_result"
    }
   ],
   "source": [
    "df.describe()"
   ]
  },
  {
   "cell_type": "code",
   "execution_count": 6,
   "metadata": {},
   "outputs": [
    {
     "name": "stdout",
     "output_type": "stream",
     "text": [
      "<class 'pandas.core.frame.DataFrame'>\n",
      "RangeIndex: 451800 entries, 0 to 451799\n",
      "Data columns (total 17 columns):\n",
      " #   Column               Non-Null Count   Dtype  \n",
      "---  ------               --------------   -----  \n",
      " 0   Name                 451800 non-null  object \n",
      " 1   Instagram_Handle     9183 non-null    object \n",
      " 2   Origin               265552 non-null  object \n",
      " 3   Federation           451800 non-null  object \n",
      " 4   Competition_Date     451800 non-null  object \n",
      " 5   Competition_Country  451800 non-null  object \n",
      " 6   Competition_City     307999 non-null  object \n",
      " 7   Gender               451800 non-null  object \n",
      " 8   Equipment            451800 non-null  object \n",
      " 9   Age                  350687 non-null  float64\n",
      " 10  Weight               451800 non-null  float64\n",
      " 11  Class                447686 non-null  float64\n",
      " 12  Squat                326940 non-null  float64\n",
      " 13  Bench                423897 non-null  float64\n",
      " 14  Deadlift             364841 non-null  float64\n",
      " 15  Total                451800 non-null  float64\n",
      " 16  Dots                 451800 non-null  float64\n",
      "dtypes: float64(8), object(9)\n",
      "memory usage: 58.6+ MB\n"
     ]
    }
   ],
   "source": [
    "df.info()"
   ]
  },
  {
   "attachments": {},
   "cell_type": "markdown",
   "metadata": {},
   "source": [
    "### Number of meets by country"
   ]
  },
  {
   "cell_type": "code",
   "execution_count": 9,
   "metadata": {},
   "outputs": [
    {
     "name": "stdout",
     "output_type": "stream",
     "text": [
      "Over 111 countries host powerlifting competitons\n"
     ]
    }
   ],
   "source": [
    "print(f'Over {len(df[\"Competition_Country\"].unique())} countries host powerlifting competitons')"
   ]
  },
  {
   "cell_type": "code",
   "execution_count": 34,
   "metadata": {},
   "outputs": [
    {
     "data": {
      "image/png": "[encoded data removed]",
      "text/plain": [
       "<Figure size 1000x700 with 1 Axes>"
      ]
     },
     "metadata": {},
     "output_type": "display_data"
    },
    {
     "data": {
      "text/plain": [
       "USA          200929\n",
       "Russia        71533\n",
       "Canada        16815\n",
       "Australia     16596\n",
       "Ukraine       16571\n",
       "England       11571\n",
       "Germany        7526\n",
       "France         7371\n",
       "Italy          5435\n",
       "Poland         4965\n",
       "Name: Competition_Country, dtype: int64"
      ]
     },
     "execution_count": 34,
     "metadata": {},
     "output_type": "execute_result"
    }
   ],
   "source": [
    "plt.figure(figsize=(10,7))\n",
    "df[\"Competition_Country\"].value_counts()[:10].sort_values(ascending=True).plot(\n",
    "    kind='barh',color=plt.cm.Set3(range(10))\n",
    ")\n",
    "plt.title('Meets by Country\\n',fontsize=20)\n",
    "plt.xticks(fontsize=15)\n",
    "plt.yticks(fontsize=15)\n",
    "plt.show()\n",
    "\n",
    "df[\"Competition_Country\"].value_counts()[:10]"
   ]
  },
  {
   "attachments": {},
   "cell_type": "markdown",
   "metadata": {},
   "source": [
    "As we can see America holds the most powerlifting competitions coming in at a a staggering 200929"
   ]
  },
  {
   "cell_type": "code",
   "execution_count": 46,
   "metadata": {},
   "outputs": [
    {
     "data": {
      "image/png": "[encoded data removed]",
      "text/plain": [
       "<Figure size 1000x700 with 1 Axes>"
      ]
     },
     "metadata": {},
     "output_type": "display_data"
    },
    {
     "data": {
      "text/plain": [
       "CA    19224\n",
       "TX    14209\n",
       "FL    13430\n",
       "PA    11709\n",
       "OH     8921\n",
       "NY     8390\n",
       "VA     7042\n",
       "IL     6785\n",
       "NJ     6654\n",
       "NC     5852\n",
       "Name: Competition_City, dtype: int64"
      ]
     },
     "execution_count": 46,
     "metadata": {},
     "output_type": "execute_result"
    }
   ],
   "source": [
    "plt.figure(figsize=(10,7))\n",
    "df.loc[df[\"Competition_Country\"] == \"USA\"][\"Competition_City\"].value_counts()[:10].sort_values(ascending=True).plot(\n",
    "    kind='barh',color=plt.cm.Set3(range(10))\n",
    ")\n",
    "plt.title('Meets by City in USA\\n',fontsize=20)\n",
    "plt.xticks(fontsize=15)\n",
    "plt.yticks(fontsize=15)\n",
    "plt.show()\n",
    "\n",
    "df.loc[df[\"Competition_Country\"] == \"USA\"][\"Competition_City\"].value_counts()[:10]"
   ]
  },
  {
   "cell_type": "code",
   "execution_count": 80,
   "metadata": {},
   "outputs": [
    {
     "data": {
      "text/html": [
       "<div>\n",
       "<style scoped>\n",
       "    .dataframe tbody tr th:only-of-type {\n",
       "        vertical-align: middle;\n",
       "    }\n",
       "\n",
       "    .dataframe tbody tr th {\n",
       "        vertical-align: top;\n",
       "    }\n",
       "\n",
       "    .dataframe thead th {\n",
       "        text-align: right;\n",
       "    }\n",
       "</style>\n",
       "<table border=\"1\" class=\"dataframe\">\n",
       "  <thead>\n",
       "    <tr style=\"text-align: right;\">\n",
       "      <th></th>\n",
       "      <th>Competition_City</th>\n",
       "      <th>Count</th>\n",
       "    </tr>\n",
       "  </thead>\n",
       "  <tbody>\n",
       "    <tr>\n",
       "      <th>0</th>\n",
       "      <td>CA</td>\n",
       "      <td>19224</td>\n",
       "    </tr>\n",
       "    <tr>\n",
       "      <th>1</th>\n",
       "      <td>TX</td>\n",
       "      <td>14209</td>\n",
       "    </tr>\n",
       "    <tr>\n",
       "      <th>2</th>\n",
       "      <td>FL</td>\n",
       "      <td>13430</td>\n",
       "    </tr>\n",
       "    <tr>\n",
       "      <th>3</th>\n",
       "      <td>PA</td>\n",
       "      <td>11709</td>\n",
       "    </tr>\n",
       "    <tr>\n",
       "      <th>4</th>\n",
       "      <td>OH</td>\n",
       "      <td>8921</td>\n",
       "    </tr>\n",
       "  </tbody>\n",
       "</table>\n",
       "</div>"
      ],
      "text/plain": [
       "  Competition_City  Count\n",
       "0               CA  19224\n",
       "1               TX  14209\n",
       "2               FL  13430\n",
       "3               PA  11709\n",
       "4               OH   8921"
      ]
     },
     "execution_count": 80,
     "metadata": {},
     "output_type": "execute_result"
    }
   ],
   "source": [
    "USA_city_df = df.loc[df[\"Competition_Country\"] == \"USA\"][\"Competition_City\"].value_counts()\n",
    "USA_city_df = USA_city_df.to_frame().reset_index()\n",
    "\n",
    "# Rename the columns\n",
    "USA_city_df.columns = [\"Competition_City\", \"Count\"]\n",
    "\n",
    "USA_city_df.head()"
   ]
  },
  {
   "cell_type": "code",
   "execution_count": 81,
   "metadata": {},
   "outputs": [
    {
     "data": {
      "text/plain": [
       "geopandas.geodataframe.GeoDataFrame"
      ]
     },
     "execution_count": 81,
     "metadata": {},
     "output_type": "execute_result"
    }
   ],
   "source": [
    "states = gpd.read_file(\"C:\\\\Users\\\\pknad\\\\OneDrive\\\\Documents\\\\Machine_Learning\\\\PowerLifting\\\\data\\\\assets\\\\cb_2018_us_state_20m.shp\")\n",
    "type(states)"
   ]
  },
  {
   "cell_type": "code",
   "execution_count": 82,
   "metadata": {},
   "outputs": [
    {
     "data": {
      "text/html": [
       "<div>\n",
       "<style scoped>\n",
       "    .dataframe tbody tr th:only-of-type {\n",
       "        vertical-align: middle;\n",
       "    }\n",
       "\n",
       "    .dataframe tbody tr th {\n",
       "        vertical-align: top;\n",
       "    }\n",
       "\n",
       "    .dataframe thead th {\n",
       "        text-align: right;\n",
       "    }\n",
       "</style>\n",
       "<table border=\"1\" class=\"dataframe\">\n",
       "  <thead>\n",
       "    <tr style=\"text-align: right;\">\n",
       "      <th></th>\n",
       "      <th>STATEFP</th>\n",
       "      <th>STATENS</th>\n",
       "      <th>AFFGEOID</th>\n",
       "      <th>GEOID</th>\n",
       "      <th>STUSPS</th>\n",
       "      <th>NAME</th>\n",
       "      <th>LSAD</th>\n",
       "      <th>ALAND</th>\n",
       "      <th>AWATER</th>\n",
       "      <th>geometry</th>\n",
       "    </tr>\n",
       "  </thead>\n",
       "  <tbody>\n",
       "    <tr>\n",
       "      <th>0</th>\n",
       "      <td>24</td>\n",
       "      <td>01714934</td>\n",
       "      <td>0400000US24</td>\n",
       "      <td>24</td>\n",
       "      <td>MD</td>\n",
       "      <td>Maryland</td>\n",
       "      <td>00</td>\n",
       "      <td>25151100280</td>\n",
       "      <td>6979966958</td>\n",
       "      <td>MULTIPOLYGON (((-76.04621 38.02553, -76.00734 ...</td>\n",
       "    </tr>\n",
       "    <tr>\n",
       "      <th>1</th>\n",
       "      <td>19</td>\n",
       "      <td>01779785</td>\n",
       "      <td>0400000US19</td>\n",
       "      <td>19</td>\n",
       "      <td>IA</td>\n",
       "      <td>Iowa</td>\n",
       "      <td>00</td>\n",
       "      <td>144661267977</td>\n",
       "      <td>1084180812</td>\n",
       "      <td>POLYGON ((-96.62187 42.77925, -96.57794 42.827...</td>\n",
       "    </tr>\n",
       "    <tr>\n",
       "      <th>2</th>\n",
       "      <td>10</td>\n",
       "      <td>01779781</td>\n",
       "      <td>0400000US10</td>\n",
       "      <td>10</td>\n",
       "      <td>DE</td>\n",
       "      <td>Delaware</td>\n",
       "      <td>00</td>\n",
       "      <td>5045925646</td>\n",
       "      <td>1399985648</td>\n",
       "      <td>POLYGON ((-75.77379 39.72220, -75.75323 39.757...</td>\n",
       "    </tr>\n",
       "    <tr>\n",
       "      <th>3</th>\n",
       "      <td>39</td>\n",
       "      <td>01085497</td>\n",
       "      <td>0400000US39</td>\n",
       "      <td>39</td>\n",
       "      <td>OH</td>\n",
       "      <td>Ohio</td>\n",
       "      <td>00</td>\n",
       "      <td>105828882568</td>\n",
       "      <td>10268850702</td>\n",
       "      <td>MULTIPOLYGON (((-82.86334 41.69369, -82.82572 ...</td>\n",
       "    </tr>\n",
       "    <tr>\n",
       "      <th>4</th>\n",
       "      <td>42</td>\n",
       "      <td>01779798</td>\n",
       "      <td>0400000US42</td>\n",
       "      <td>42</td>\n",
       "      <td>PA</td>\n",
       "      <td>Pennsylvania</td>\n",
       "      <td>00</td>\n",
       "      <td>115884442321</td>\n",
       "      <td>3394589990</td>\n",
       "      <td>POLYGON ((-80.51989 40.90666, -80.51964 40.987...</td>\n",
       "    </tr>\n",
       "  </tbody>\n",
       "</table>\n",
       "</div>"
      ],
      "text/plain": [
       "  STATEFP   STATENS     AFFGEOID GEOID STUSPS          NAME LSAD  \\\n",
       "0      24  01714934  0400000US24    24     MD      Maryland   00   \n",
       "1      19  01779785  0400000US19    19     IA          Iowa   00   \n",
       "2      10  01779781  0400000US10    10     DE      Delaware   00   \n",
       "3      39  01085497  0400000US39    39     OH          Ohio   00   \n",
       "4      42  01779798  0400000US42    42     PA  Pennsylvania   00   \n",
       "\n",
       "          ALAND       AWATER  \\\n",
       "0   25151100280   6979966958   \n",
       "1  144661267977   1084180812   \n",
       "2    5045925646   1399985648   \n",
       "3  105828882568  10268850702   \n",
       "4  115884442321   3394589990   \n",
       "\n",
       "                                            geometry  \n",
       "0  MULTIPOLYGON (((-76.04621 38.02553, -76.00734 ...  \n",
       "1  POLYGON ((-96.62187 42.77925, -96.57794 42.827...  \n",
       "2  POLYGON ((-75.77379 39.72220, -75.75323 39.757...  \n",
       "3  MULTIPOLYGON (((-82.86334 41.69369, -82.82572 ...  \n",
       "4  POLYGON ((-80.51989 40.90666, -80.51964 40.987...  "
      ]
     },
     "execution_count": 82,
     "metadata": {},
     "output_type": "execute_result"
    }
   ],
   "source": [
    "states.head()"
   ]
  },
  {
   "cell_type": "code",
   "execution_count": 84,
   "metadata": {},
   "outputs": [],
   "source": [
    "shape = pd.merge(\n",
    "    left = states,\n",
    "    right = USA_city_df, \n",
    "    left_on=\"STUSPS\",\n",
    "    right_on=\"Competition_City\",\n",
    "    how='left'\n",
    ")"
   ]
  },
  {
   "cell_type": "code",
   "execution_count": 95,
   "metadata": {},
   "outputs": [],
   "source": [
    "shape = shape.dropna()\n",
    "shape = shape[~shape['NAME'].isin(['Alaska', 'Hawaii', 'Puerto Rico'])]"
   ]
  },
  {
   "cell_type": "code",
   "execution_count": 121,
   "metadata": {},
   "outputs": [
    {
     "data": {
      "image/png": "[encoded data removed]",
      "text/plain": [
       "<Figure size 1000x500 with 2 Axes>"
      ]
     },
     "metadata": {},
     "output_type": "display_data"
    }
   ],
   "source": [
    "ax = shape.boundary.plot(edgecolor='black', linewidth=0.2, figsize=(10,5))\n",
    "shape.plot(ax=ax, column='Count', legend=True, cmap='plasma', legend_kwds = {'shrink':0.5,'orientation':'horizontal'})\n",
    "\n",
    "ax.get_xaxis().set_visible(False)\n",
    "ax.get_yaxis().set_visible(False)\n",
    "\n",
    "for edge in ['right', 'left', 'bottom', 'top']:\n",
    "    ax.spines[edge].set_visible(False)\n",
    "\n",
    "ax.set_title(\"Competitions Held In each State\", size=12)\n",
    "\n",
    "plt.show()"
   ]
  },
  {
   "cell_type": "code",
   "execution_count": null,
   "metadata": {},
   "outputs": [],
   "source": []
  }
 ],
 "metadata": {
  "kernelspec": {
   "display_name": "fgvc_test",
   "language": "python",
   "name": "python3"
  },
  "language_info": {
   "codemirror_mode": {
    "name": "ipython",
    "version": 3
   },
   "file_extension": ".py",
   "mimetype": "text/x-python",
   "name": "python",
   "nbconvert_exporter": "python",
   "pygments_lexer": "ipython3",
   "version": "3.9.16"
  },
  "orig_nbformat": 4
 },
 "nbformat": 4,
 "nbformat_minor": 2
}
